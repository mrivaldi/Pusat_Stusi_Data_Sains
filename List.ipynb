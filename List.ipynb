{
  "nbformat": 4,
  "nbformat_minor": 0,
  "metadata": {
    "colab": {
      "name": "List.ipynb",
      "provenance": [],
      "include_colab_link": true
    },
    "kernelspec": {
      "name": "python3",
      "display_name": "Python 3"
    }
  },
  "cells": [
    {
      "cell_type": "markdown",
      "metadata": {
        "id": "view-in-github",
        "colab_type": "text"
      },
      "source": [
        "<a href=\"https://colab.research.google.com/github/mrivaldi/Pusat_Stusi_Data_Sains/blob/main/List.ipynb\" target=\"_parent\"><img src=\"https://colab.research.google.com/assets/colab-badge.svg\" alt=\"Open In Colab\"/></a>"
      ]
    },
    {
      "cell_type": "markdown",
      "metadata": {
        "id": "Y0cxNwSpKqLf"
      },
      "source": [
        "\n",
        "list adalah salah satu dari jenis struktur data yang elemen - elemennya berurut dan dapat diubah. "
      ]
    },
    {
      "cell_type": "markdown",
      "metadata": {
        "id": "5mE93Dp9LKQm"
      },
      "source": [
        "List dapat kita buat seperti membuat variabel biasa, namun nilai variabelnya diisi dengan tanda kurung siku ([])."
      ]
    },
    {
      "cell_type": "code",
      "metadata": {
        "id": "9pOtKzstLp3_",
        "colab": {
          "base_uri": "https://localhost:8080/",
          "height": 36
        },
        "outputId": "b1ab30b0-40cb-478a-980d-a736e3afca08"
      },
      "source": [
        "matkul = [\"fuzzy\", \"pdp\", \"metnum\" , \"graf\"]\n",
        "print(matkul)"
      ],
      "execution_count": null,
      "outputs": [
        {
          "output_type": "stream",
          "text": [
            "['fuzzy', 'pdp', 'metnum', 'graf']\n"
          ],
          "name": "stdout"
        }
      ]
    },
    {
      "cell_type": "markdown",
      "metadata": {
        "id": "15RUf2ihMM-Z"
      },
      "source": [
        "cara menampilkan elemen\n",
        "caranya dengan menggunakan fungsi print"
      ]
    },
    {
      "cell_type": "code",
      "metadata": {
        "id": "Hp7Maj7rMf01",
        "colab": {
          "base_uri": "https://localhost:8080/",
          "height": 73
        },
        "outputId": "b24a9df7-01a0-440e-922c-d320ada022c9"
      },
      "source": [
        "matkul = [\"fuzzy\", \"pdp\", \"metnum\" , \"graf\"]\n",
        "print(matkul[2])\n",
        "print(matkul[2:])\n",
        "print(matkul[0:3:2])\n",
        "print(thislist[-2])\n",
        "print(thislist[-4:-1])"
      ],
      "execution_count": null,
      "outputs": [
        {
          "output_type": "stream",
          "text": [
            "metnum\n",
            "['metnum', 'graf']\n",
            "['fuzzy', 'metnum']\n"
          ],
          "name": "stdout"
        }
      ]
    },
    {
      "cell_type": "markdown",
      "metadata": {
        "id": "RSAg61A8a2qG"
      },
      "source": [
        "cara mengubah elemen dalam list"
      ]
    },
    {
      "cell_type": "code",
      "metadata": {
        "id": "UvoInRZ-bBWR"
      },
      "source": [
        "matkul = [\"fuzzy\", \"pdp\", \"metnum\" , \"graf\" , \"sisdim\"]\n",
        "matkul[3] = \"aktuaria\"\n",
        "print(matkul)"
      ],
      "execution_count": null,
      "outputs": []
    },
    {
      "cell_type": "markdown",
      "metadata": {
        "id": "cHHmiQv4bY3C"
      },
      "source": [
        "looping pada list"
      ]
    },
    {
      "cell_type": "code",
      "metadata": {
        "id": "m-2tgYqUbfP3",
        "colab": {
          "base_uri": "https://localhost:8080/",
          "height": 91
        },
        "outputId": "6f008cf5-959c-4ce7-e125-b3e578cb2cf2"
      },
      "source": [
        "matkul = [\"fuzzy\", \"pdp\", \"metnum\" , \"graf\"]\n",
        "\n",
        "for x in matkul:\n",
        "  print(x)"
      ],
      "execution_count": null,
      "outputs": [
        {
          "output_type": "stream",
          "text": [
            "fuzzy\n",
            "pdp\n",
            "metnum\n",
            "graf\n"
          ],
          "name": "stdout"
        }
      ]
    },
    {
      "cell_type": "markdown",
      "metadata": {
        "id": "cv0aU1cEbvOd"
      },
      "source": [
        "cara mengecek apakah suatu elemen berada dalam list"
      ]
    },
    {
      "cell_type": "code",
      "metadata": {
        "id": "GNNA1lRkcAmT",
        "colab": {
          "base_uri": "https://localhost:8080/",
          "height": 36
        },
        "outputId": "ffe9bc62-d283-4db1-be45-c1402f540af7"
      },
      "source": [
        "matkul = [\"fuzzy\", \"pdp\", \"metnum\" , \"graf\"]\n",
        "if \"fuzzy\" in matkul:\n",
        "  print('fuzzy termasuk matkul')"
      ],
      "execution_count": null,
      "outputs": [
        {
          "output_type": "stream",
          "text": [
            "fuzzy termasuk matkul\n"
          ],
          "name": "stdout"
        }
      ]
    },
    {
      "cell_type": "markdown",
      "metadata": {
        "id": "U6CA-4q8cQfC"
      },
      "source": [
        "cara mengetahui jumlah elemen dalam list"
      ]
    },
    {
      "cell_type": "code",
      "metadata": {
        "id": "1ohkG60acYxq",
        "colab": {
          "base_uri": "https://localhost:8080/",
          "height": 36
        },
        "outputId": "9eaef8ed-edcd-449d-a06d-26d783527499"
      },
      "source": [
        "matkul = [\"fuzzy\", \"pdp\", \"metnum\" , \"graf\"]\n",
        "print(len(matkul))"
      ],
      "execution_count": null,
      "outputs": [
        {
          "output_type": "stream",
          "text": [
            "4\n"
          ],
          "name": "stdout"
        }
      ]
    },
    {
      "cell_type": "markdown",
      "metadata": {
        "id": "O85URks5cmkj"
      },
      "source": [
        "cara menambahkan elemen dalam list\n",
        "ada 2 cara untuk menambahkan elemen pada list, yaitu;\n",
        "1. menggunakan metode append()\n",
        "2. menggunakan metode insert()\n"
      ]
    },
    {
      "cell_type": "code",
      "metadata": {
        "id": "nVJEDf96dOfe",
        "colab": {
          "base_uri": "https://localhost:8080/",
          "height": 36
        },
        "outputId": "eea5ea1b-0ec3-4b65-abdd-3207a8c13380"
      },
      "source": [
        "#metode append : menambahkan elemen pada baris terakhir\n",
        "matkul = [\"fuzzy\", \"pdp\", \"metnum\" , \"graf\"]\n",
        "matkul.append(\"anreg\")\n",
        "print(matkul)"
      ],
      "execution_count": null,
      "outputs": [
        {
          "output_type": "stream",
          "text": [
            "['fuzzy', 'pdp', 'metnum', 'graf', 'anreg']\n"
          ],
          "name": "stdout"
        }
      ]
    },
    {
      "cell_type": "code",
      "metadata": {
        "id": "6XrL3bqddhRt",
        "colab": {
          "base_uri": "https://localhost:8080/",
          "height": 36
        },
        "outputId": "a6bb05a2-4124-43d4-e143-2d3f89c4b527"
      },
      "source": [
        "#metode insert : memasukkan elemen pada baris tertentu\n",
        "matkul = [\"fuzzy\", \"pdp\", \"metnum\" , \"graf\"]\n",
        "matkul.insert(1, 'anriil')\n",
        "print(matkul)"
      ],
      "execution_count": null,
      "outputs": [
        {
          "output_type": "stream",
          "text": [
            "['fuzzy', 'anriil', 'pdp', 'metnum', 'graf']\n"
          ],
          "name": "stdout"
        }
      ]
    },
    {
      "cell_type": "markdown",
      "metadata": {
        "id": "QK9-9GhIeE4u"
      },
      "source": [
        "menghapus elemen dalam list\n",
        "ada beberapa cara untuk menghapus elemen\n",
        "1. menggunakan keyword del\n",
        "2. menggunakan metode remove()\n",
        "3. menggunakan metode pop()\n",
        "4. menggunakan metode clear()"
      ]
    },
    {
      "cell_type": "code",
      "metadata": {
        "id": "b9dTvzNrewLA",
        "colab": {
          "base_uri": "https://localhost:8080/",
          "height": 36
        },
        "outputId": "dc12476c-579c-4db7-af67-44293759822b"
      },
      "source": [
        "#menggunakan keyword del,(bukan hanya bisa menghapus elemen tapi bisa juga untuk mnghapus list)\n",
        "matkul = [\"fuzzy\", \"pdp\", \"metnum\" , \"graf\"]\n",
        "del matkul[3]\n",
        "print(matkul)\n",
        "matkul1 = [\"fuzzy\", \"pdp\", \"metnum\" , \"graf\"]\n",
        "del matkul"
      ],
      "execution_count": null,
      "outputs": [
        {
          "output_type": "stream",
          "text": [
            "['fuzzy', 'pdp', 'metnum']\n"
          ],
          "name": "stdout"
        }
      ]
    },
    {
      "cell_type": "code",
      "metadata": {
        "id": "GNVgWlzAe06_",
        "colab": {
          "base_uri": "https://localhost:8080/",
          "height": 36
        },
        "outputId": "5c48ada8-85f6-4833-9535-3aba1c407411"
      },
      "source": [
        "#menggunakan metode remove(): menggunakan remove() harus menyebutkan nama elemennya langsung\n",
        "matkul = [\"fuzzy\", \"pdp\", \"metnum\" , \"graf\"]\n",
        "matkul.remove(\"fuzzy\")\n",
        "print(matkul)\n"
      ],
      "execution_count": null,
      "outputs": [
        {
          "output_type": "stream",
          "text": [
            "['pdp', 'metnum', 'graf']\n"
          ],
          "name": "stdout"
        }
      ]
    },
    {
      "cell_type": "code",
      "metadata": {
        "id": "R3V2IapIf76i",
        "colab": {
          "base_uri": "https://localhost:8080/",
          "height": 36
        },
        "outputId": "afde299f-7ddd-401e-e06c-d71777d5a28e"
      },
      "source": [
        "#menggunakan metode pop(a): menghapus elemen baris ke-a atau baris terakhir\n",
        "matkul = [\"fuzzy\", \"pdp\", \"metnum\" , \"graf\"]\n",
        "matkul.pop(2)\n",
        "matkul.pop()\n",
        "print(matkul) "
      ],
      "execution_count": null,
      "outputs": [
        {
          "output_type": "stream",
          "text": [
            "['fuzzy', 'pdp']\n"
          ],
          "name": "stdout"
        }
      ]
    },
    {
      "cell_type": "code",
      "metadata": {
        "id": "IYrhbP_wga_Q",
        "colab": {
          "base_uri": "https://localhost:8080/",
          "height": 36
        },
        "outputId": "5a62c8f2-43dc-40e0-f9a6-9b333aa956ae"
      },
      "source": [
        "#menggunakan metode clear(): menghapus seluruh elemen pada list\n",
        "matkul = [\"fuzzy\", \"pdp\", \"metnum\" , \"graf\"]\n",
        "matkul.clear()\n",
        "print(matkul)"
      ],
      "execution_count": null,
      "outputs": [
        {
          "output_type": "stream",
          "text": [
            "[]\n"
          ],
          "name": "stdout"
        }
      ]
    },
    {
      "cell_type": "markdown",
      "metadata": {
        "id": "uIB3DvQYgrJ-"
      },
      "source": [
        "copy list\n",
        "ada 2 cara untuk copy list\n",
        "1. menggunakan metode copy()\n",
        "2. menggunakan metode list()"
      ]
    },
    {
      "cell_type": "code",
      "metadata": {
        "id": "oaTesw-zhFOt",
        "colab": {
          "base_uri": "https://localhost:8080/",
          "height": 36
        },
        "outputId": "cc25dc97-8b5d-4c3a-d090-d62ebde3e30d"
      },
      "source": [
        "#menggunakan metode copy()\n",
        "matkul = [\"fuzzy\", \"pdp\", \"metnum\" , \"graf\"]\n",
        "matlah = matkul.copy()\n",
        "print(matlah)"
      ],
      "execution_count": null,
      "outputs": [
        {
          "output_type": "stream",
          "text": [
            "['fuzzy', 'pdp', 'metnum', 'graf']\n"
          ],
          "name": "stdout"
        }
      ]
    },
    {
      "cell_type": "code",
      "metadata": {
        "id": "TFz6YhanhWS9",
        "colab": {
          "base_uri": "https://localhost:8080/",
          "height": 36
        },
        "outputId": "1cfdeb08-0a87-44ca-a61f-87f27e757b0f"
      },
      "source": [
        "#menggunakan metode list()\n",
        "matkul = [\"fuzzy\", \"pdp\", \"metnum\" , \"graf\"]\n",
        "matlah = list(matkul)\n",
        "print(matlah)"
      ],
      "execution_count": null,
      "outputs": [
        {
          "output_type": "stream",
          "text": [
            "['fuzzy', 'pdp', 'metnum', 'graf']\n"
          ],
          "name": "stdout"
        }
      ]
    },
    {
      "cell_type": "markdown",
      "metadata": {
        "id": "yPxC06ewhjnC"
      },
      "source": [
        "cara menggabungkan 2 list\n",
        "1. menggunakan tanda +\n",
        "2. menggunakan metode append()\n",
        "3. menggunakan metode extend()"
      ]
    },
    {
      "cell_type": "code",
      "metadata": {
        "id": "JGECFOskh8n8",
        "colab": {
          "base_uri": "https://localhost:8080/",
          "height": 36
        },
        "outputId": "55922bb6-dc5d-4c9b-bcde-a166c02c0851"
      },
      "source": [
        "#menggnakan tanda +\n",
        "matkul = [\"fuzzy\", \"pdp\", \"metnum\" , \"graf\"]\n",
        "angka = [1, 2, 3, 4]\n",
        "\n",
        "hasil = matkul + angka\n",
        "print(hasil)"
      ],
      "execution_count": null,
      "outputs": [
        {
          "output_type": "stream",
          "text": [
            "['fuzzy', 'pdp', 'metnum', 'graf', 1, 2, 3, 4]\n"
          ],
          "name": "stdout"
        }
      ]
    },
    {
      "cell_type": "code",
      "metadata": {
        "id": "EhwfXTCuiL1U",
        "colab": {
          "base_uri": "https://localhost:8080/",
          "height": 36
        },
        "outputId": "40f81c03-1cec-45a3-b2e2-e9c7dba9a4ec"
      },
      "source": [
        "#menggunakan metode append\n",
        "matkul = [\"fuzzy\", \"pdp\", \"metnum\" , \"graf\"]\n",
        "angka = [1, 2, 3, 4]\n",
        "\n",
        "for x in angka:\n",
        "  matkul.append(x)\n",
        "\n",
        "print(matkul)"
      ],
      "execution_count": null,
      "outputs": [
        {
          "output_type": "stream",
          "text": [
            "['fuzzy', 'pdp', 'metnum', 'graf', 1, 2, 3, 4]\n"
          ],
          "name": "stdout"
        }
      ]
    },
    {
      "cell_type": "code",
      "metadata": {
        "id": "JW9IRHnYii9F",
        "colab": {
          "base_uri": "https://localhost:8080/",
          "height": 36
        },
        "outputId": "9e34b5e7-f161-45c7-b28d-2fa430879198"
      },
      "source": [
        "#menggunakan metode extend\n",
        "matkul = [\"fuzzy\", \"pdp\", \"metnum\" , \"graf\"]\n",
        "angka = [1, 2, 3, 4]\n",
        "\n",
        "matkul.extend(angka)\n",
        "print(matkul)"
      ],
      "execution_count": null,
      "outputs": [
        {
          "output_type": "stream",
          "text": [
            "['fuzzy', 'pdp', 'metnum', 'graf', 1, 2, 3, 4]\n"
          ],
          "name": "stdout"
        }
      ]
    }
  ]
}